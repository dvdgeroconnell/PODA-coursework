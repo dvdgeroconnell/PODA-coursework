{
 "cells": [
  {
   "cell_type": "code",
   "execution_count": null,
   "metadata": {},
   "outputs": [],
   "source": []
  },
  {
   "cell_type": "markdown",
   "metadata": {},
   "source": [
    "```{toggle}  \n",
    ":show:\n",
    " ![Penguins](https://allisonhorst.github.io/palmerpenguins/reference/figures/lter_penguins.png)\n",
    "```"
   ]
  },
  {
   "cell_type": "markdown",
   "metadata": {},
   "source": [
    "\n",
    "\n"
   ]
  },
  {
   "cell_type": "markdown",
   "metadata": {},
   "source": [
    "***\n",
    "# Random Numbers\n",
    "***\n",
    "## Prerequisites\n",
    "https://numpy.org/doc/stable/reference/random/index.html\n"
   ]
  },
  {
   "cell_type": "code",
   "execution_count": 25,
   "metadata": {},
   "outputs": [],
   "source": [
    "# numerical arrays and random numbers\n",
    "import numpy as np\n",
    "import matplotlib.pyplot as plt"
   ]
  },
  {
   "cell_type": "markdown",
   "metadata": {},
   "source": [
    "## Generate Random Integers\n",
    "***"
   ]
  },
  {
   "cell_type": "code",
   "execution_count": 26,
   "metadata": {},
   "outputs": [
    {
     "data": {
      "text/plain": [
       "array([0, 8, 9, 9, 1, 8, 3, 2, 8, 3, 3, 4, 5, 5, 5, 9, 3, 9, 1, 3, 4, 9,\n",
       "       2, 8, 6, 4, 5, 4, 3, 2, 7, 0, 8, 6, 5, 2, 4, 0, 7, 0, 7, 0, 1, 3,\n",
       "       0, 2, 0, 1, 1, 9, 5, 0, 7, 4, 9, 5, 3, 1, 7, 1, 7, 3, 7, 4, 2, 8,\n",
       "       5, 6, 9, 7, 9, 1, 5, 1, 6, 6, 8, 2, 0, 0, 1, 5, 3, 7, 2, 7, 2, 8,\n",
       "       8, 6, 7, 0, 0, 1, 0, 9, 9, 3, 3, 7], dtype=int64)"
      ]
     },
     "execution_count": 26,
     "metadata": {},
     "output_type": "execute_result"
    }
   ],
   "source": [
    "# Generate an array of 100 integers uniformly distributed over the range [0, 10).\n",
    "rng = np.random.default_rng()\n",
    "rng.integers(low=0, high=10, size=100)"
   ]
  },
  {
   "cell_type": "code",
   "execution_count": 27,
   "metadata": {},
   "outputs": [
    {
     "name": "stdout",
     "output_type": "stream",
     "text": [
      "<class 'numpy.random._generator.Generator'>\n",
      "0.9291380154057857\n",
      "0.9291380154057857\n"
     ]
    }
   ],
   "source": [
    "import secrets\n",
    "seed = secrets.randbits(128)\n",
    "# we should get the same number for rng1 and rng2 when using the same seed\n",
    "rng1 = np.random.default_rng(seed)\n",
    "print(type(rng1))\n",
    "print(rng1.random())\n",
    "rng2 = np.random.default_rng(seed)\n",
    "print(rng2.random())"
   ]
  },
  {
   "cell_type": "code",
   "execution_count": 28,
   "metadata": {},
   "outputs": [
    {
     "data": {
      "text/plain": [
       "array([6, 6, 9, ..., 1, 8, 6], dtype=int64)"
      ]
     },
     "execution_count": 28,
     "metadata": {},
     "output_type": "execute_result"
    }
   ],
   "source": [
    "# Generate 10K integers over the range [0, 10)\n",
    "x = rng.integers(low=0, high=10,size=10000)\n",
    "# Show x\n",
    "x\n"
   ]
  },
  {
   "cell_type": "code",
   "execution_count": 29,
   "metadata": {},
   "outputs": [
    {
     "data": {
      "text/plain": [
       "(array([0, 1, 2, 3, 4, 5, 6, 7, 8, 9], dtype=int64),\n",
       " array([ 985,  904, 1011,  989, 1046, 1018, 1058, 1014,  993,  982],\n",
       "       dtype=int64))"
      ]
     },
     "execution_count": 29,
     "metadata": {},
     "output_type": "execute_result"
    }
   ],
   "source": [
    "# Get the counts.\n",
    "values, counts = np.unique(x, return_counts=True)\n",
    "# Show the results\n",
    "values, counts"
   ]
  },
  {
   "cell_type": "code",
   "execution_count": 30,
   "metadata": {},
   "outputs": [
    {
     "data": {
      "text/plain": [
       "<BarContainer object of 10 artists>"
      ]
     },
     "execution_count": 30,
     "metadata": {},
     "output_type": "execute_result"
    },
    {
     "data": {
      "image/png": "[encoded data removed]",
      "text/plain": [
       "<Figure size 640x480 with 1 Axes>"
      ]
     },
     "metadata": {},
     "output_type": "display_data"
    }
   ],
   "source": [
    "# Plot the bar chart\n",
    "plt.bar(values, counts)"
   ]
  },
  {
   "cell_type": "code",
   "execution_count": 31,
   "metadata": {},
   "outputs": [],
   "source": [
    "# Link to documentation on the distributions - https://numpy.org/doc/stable/reference/random/generator.html#distributions"
   ]
  },
  {
   "cell_type": "markdown",
   "metadata": {},
   "source": [
    "## Uniform Distribution\n",
    "***"
   ]
  },
  {
   "cell_type": "code",
   "execution_count": 32,
   "metadata": {},
   "outputs": [
    {
     "data": {
      "text/plain": [
       "array([3.62767111, 9.94084927, 4.34749506, 5.64678632, 5.24925937,\n",
       "       4.06690835, 4.57596226, 9.15002573, 2.65356231, 1.44810475,\n",
       "       0.4644285 , 5.41736183, 8.06126029, 0.82256349, 5.32302416,\n",
       "       6.72943945, 8.09660842, 2.77222981, 2.74018718, 1.34204059,\n",
       "       7.18851861, 7.92304779, 3.10130553, 1.01537781, 5.5893713 ,\n",
       "       6.61594664, 8.40935225, 8.48154058, 6.50639323, 7.04208369,\n",
       "       4.1751515 , 3.90570212, 0.68671413, 4.52776829, 7.48424767,\n",
       "       4.1447238 , 7.48570549, 3.44961899, 4.06373055, 0.03441953,\n",
       "       6.68760957, 3.62104172, 2.32069212, 5.55842749, 2.86341465,\n",
       "       9.2362646 , 7.19024037, 9.09359234, 9.92512664, 9.50974976,\n",
       "       8.01574181, 4.26196485, 1.77215968, 2.95103041, 8.78063112,\n",
       "       9.53870247, 2.73126278, 8.83217614, 6.13582343, 1.04439864,\n",
       "       7.1732006 , 4.63394345, 6.80959518, 6.25312174, 9.57305692,\n",
       "       8.11417596, 9.9914457 , 5.22801621, 7.85256985, 8.67039471,\n",
       "       7.82961794, 0.68945317, 0.8628572 , 6.01137016, 7.08699272,\n",
       "       0.82273432, 4.82501994, 3.32972859, 1.90576237, 9.20917814,\n",
       "       6.20282503, 3.08600077, 6.47741538, 1.00584747, 5.78281655,\n",
       "       8.98877892, 7.05229326, 5.90596668, 9.90097963, 0.86997007,\n",
       "       3.86438693, 9.09190641, 5.85561565, 6.45693564, 6.25383811,\n",
       "       4.87590234, 5.6328671 , 5.7967171 , 4.34427674, 9.39934574])"
      ]
     },
     "execution_count": 32,
     "metadata": {},
     "output_type": "execute_result"
    }
   ],
   "source": [
    "# Make this an array of floats, by adding the \".0\" to the low and high range\n",
    "x = rng.uniform(low=0.0, high=10.0, size=100)\n",
    "# Show\n",
    "x"
   ]
  },
  {
   "cell_type": "code",
   "execution_count": 33,
   "metadata": {},
   "outputs": [
    {
     "data": {
      "text/plain": [
       "(array([0.03441953, 0.4644285 , 0.68671413, 0.68945317, 0.82256349,\n",
       "        0.82273432, 0.8628572 , 0.86997007, 1.00584747, 1.01537781,\n",
       "        1.04439864, 1.34204059, 1.44810475, 1.77215968, 1.90576237,\n",
       "        2.32069212, 2.65356231, 2.73126278, 2.74018718, 2.77222981,\n",
       "        2.86341465, 2.95103041, 3.08600077, 3.10130553, 3.32972859,\n",
       "        3.44961899, 3.62104172, 3.62767111, 3.86438693, 3.90570212,\n",
       "        4.06373055, 4.06690835, 4.1447238 , 4.1751515 , 4.26196485,\n",
       "        4.34427674, 4.34749506, 4.52776829, 4.57596226, 4.63394345,\n",
       "        4.82501994, 4.87590234, 5.22801621, 5.24925937, 5.32302416,\n",
       "        5.41736183, 5.55842749, 5.5893713 , 5.6328671 , 5.64678632,\n",
       "        5.78281655, 5.7967171 , 5.85561565, 5.90596668, 6.01137016,\n",
       "        6.13582343, 6.20282503, 6.25312174, 6.25383811, 6.45693564,\n",
       "        6.47741538, 6.50639323, 6.61594664, 6.68760957, 6.72943945,\n",
       "        6.80959518, 7.04208369, 7.05229326, 7.08699272, 7.1732006 ,\n",
       "        7.18851861, 7.19024037, 7.48424767, 7.48570549, 7.82961794,\n",
       "        7.85256985, 7.92304779, 8.01574181, 8.06126029, 8.09660842,\n",
       "        8.11417596, 8.40935225, 8.48154058, 8.67039471, 8.78063112,\n",
       "        8.83217614, 8.98877892, 9.09190641, 9.09359234, 9.15002573,\n",
       "        9.20917814, 9.2362646 , 9.39934574, 9.50974976, 9.53870247,\n",
       "        9.57305692, 9.90097963, 9.92512664, 9.94084927, 9.9914457 ]),\n",
       " array([1, 1, 1, 1, 1, 1, 1, 1, 1, 1, 1, 1, 1, 1, 1, 1, 1, 1, 1, 1, 1, 1,\n",
       "        1, 1, 1, 1, 1, 1, 1, 1, 1, 1, 1, 1, 1, 1, 1, 1, 1, 1, 1, 1, 1, 1,\n",
       "        1, 1, 1, 1, 1, 1, 1, 1, 1, 1, 1, 1, 1, 1, 1, 1, 1, 1, 1, 1, 1, 1,\n",
       "        1, 1, 1, 1, 1, 1, 1, 1, 1, 1, 1, 1, 1, 1, 1, 1, 1, 1, 1, 1, 1, 1,\n",
       "        1, 1, 1, 1, 1, 1, 1, 1, 1, 1, 1, 1], dtype=int64),\n",
       " 100,\n",
       " 100)"
      ]
     },
     "execution_count": 33,
     "metadata": {},
     "output_type": "execute_result"
    }
   ],
   "source": [
    "values, counts = np.unique(x, return_counts=True)\n",
    "# Show - we expect this to be distributed across the full size (10000) - i.e. 10000 unique values\n",
    "values, counts, values.size, counts.size"
   ]
  },
  {
   "cell_type": "code",
   "execution_count": 34,
   "metadata": {},
   "outputs": [
    {
     "data": {
      "text/plain": [
       "array([ 4., 10.,  4.,  6.,  5.,  4.,  5.,  9.,  3.,  1.,  0.,  5.,  8.,\n",
       "        1.,  5.,  7.,  8.,  3.,  3.,  1.,  7.,  8.,  3.,  1.,  6.,  7.,\n",
       "        8.,  8.,  7.,  7.,  4.,  4.,  1.,  5.,  7.,  4.,  7.,  3.,  4.,\n",
       "        0.,  7.,  4.,  2.,  6.,  3.,  9.,  7.,  9., 10., 10.,  8.,  4.,\n",
       "        2.,  3.,  9., 10.,  3.,  9.,  6.,  1.,  7.,  5.,  7.,  6., 10.,\n",
       "        8., 10.,  5.,  8.,  9.,  8.,  1.,  1.,  6.,  7.,  1.,  5.,  3.,\n",
       "        2.,  9.,  6.,  3.,  6.,  1.,  6.,  9.,  7.,  6., 10.,  1.,  4.,\n",
       "        9.,  6.,  6.,  6.,  5.,  6.,  6.,  4.,  9.])"
      ]
     },
     "execution_count": 34,
     "metadata": {},
     "output_type": "execute_result"
    }
   ],
   "source": [
    "# This can't be plotted in a bar chart - 10,000 bars overwriting each other - so, round the numbers.\n",
    "\n",
    "x_rounded = np.round(x, decimals=0)\n",
    "x_rounded"
   ]
  },
  {
   "cell_type": "code",
   "execution_count": 35,
   "metadata": {},
   "outputs": [
    {
     "data": {
      "text/plain": [
       "(array([ 0.,  1.,  2.,  3.,  4.,  5.,  6.,  7.,  8.,  9., 10.]),\n",
       " array([ 2, 11,  3, 10, 11,  9, 15, 13,  9, 10,  7], dtype=int64),\n",
       " 11,\n",
       " 11)"
      ]
     },
     "execution_count": 35,
     "metadata": {},
     "output_type": "execute_result"
    }
   ],
   "source": [
    "values1, counts1 = np.unique(x_rounded, return_counts=True)\n",
    "# Show - we expect this to be distributed across the full size (10000) - i.e. 10000 unique values\n",
    "values1, counts1, values1.size, counts1.size"
   ]
  },
  {
   "cell_type": "code",
   "execution_count": 36,
   "metadata": {},
   "outputs": [
    {
     "data": {
      "text/plain": [
       "<BarContainer object of 11 artists>"
      ]
     },
     "execution_count": 36,
     "metadata": {},
     "output_type": "execute_result"
    },
    {
     "data": {
      "image/png": "[encoded data removed]",
      "text/plain": [
       "<Figure size 640x480 with 1 Axes>"
      ]
     },
     "metadata": {},
     "output_type": "display_data"
    }
   ],
   "source": [
    "# Plot the bar chart\n",
    "plt.bar(values1, counts1, edgecolor = 'black')\n",
    "\n",
    "# Conclusion - rounding floating point numbers does not give you a uniform distribution\n",
    "# Or at leat a bar chart is not appropriate.\n"
   ]
  },
  {
   "cell_type": "code",
   "execution_count": 41,
   "metadata": {},
   "outputs": [
    {
     "data": {
      "text/plain": [
       "(array([8.15168843e-04, 1.34235540e-03, 1.47423046e-03, ...,\n",
       "        9.99741454e+00, 9.99824208e+00, 9.99956807e+00]),\n",
       " array([1, 1, 1, ..., 1, 1, 1], dtype=int64),\n",
       " 10000,\n",
       " 10000)"
      ]
     },
     "execution_count": 41,
     "metadata": {},
     "output_type": "execute_result"
    }
   ],
   "source": [
    "# Generate 10,000 random floats\n",
    "z = rng.uniform(low=0.0, high=10.0, size=10000)\n",
    "# Show\n",
    "z\n",
    "# We don't need to view the values\n",
    "values, counts = np.unique(z, return_counts=True)\n",
    "# Show - we expect this to be distributed across the full size (10000) - i.e. 10000 unique values\n",
    "values, counts, values.size, counts.size"
   ]
  },
  {
   "cell_type": "code",
   "execution_count": 42,
   "metadata": {},
   "outputs": [
    {
     "data": {
      "text/plain": [
       "(array([1040.,  991., 1000.,  977.,  977.,  978., 1024., 1026., 1009.,\n",
       "         978.]),\n",
       " array([8.15168843e-04, 1.00069046e+00, 2.00056575e+00, 3.00044104e+00,\n",
       "        4.00031633e+00, 5.00019162e+00, 6.00006691e+00, 6.99994220e+00,\n",
       "        7.99981749e+00, 8.99969278e+00, 9.99956807e+00]),\n",
       " <BarContainer object of 10 artists>)"
      ]
     },
     "execution_count": 42,
     "metadata": {},
     "output_type": "execute_result"
    },
    {
     "data": {
      "image/png": "[encoded data removed]",
      "text/plain": [
       "<Figure size 640x480 with 1 Axes>"
      ]
     },
     "metadata": {},
     "output_type": "display_data"
    }
   ],
   "source": [
    "# Plot the histogram - it's more like what we would expect from the uniform distribution\n",
    "# You get 10 equally spaced'bins' or intervals by default, starting at the lowest value (not 0) and finishing at the highest value (something less than 10)\n",
    "# see https://matplotlib.org/stable/api/_as_gen/matplotlib.pyplot.hist.html.\n",
    "# If a number is exactly on the boundary, it belongs to the bin on its right. For the last value, it would belong to the bin on its left.\n",
    "plt.hist(z, edgecolor = 'black')"
   ]
  },
  {
   "cell_type": "markdown",
   "metadata": {},
   "source": [
    "## Standard Normal ('bell shaped curve')\n",
    "***"
   ]
  },
  {
   "cell_type": "code",
   "execution_count": 45,
   "metadata": {},
   "outputs": [
    {
     "data": {
      "text/plain": [
       "(array([3.000e+00, 3.400e+01, 2.440e+02, 9.790e+02, 2.416e+03, 3.037e+03,\n",
       "        2.116e+03, 9.370e+02, 2.040e+02, 3.000e+01]),\n",
       " array([-4.18948913, -3.41831833, -2.64714754, -1.87597674, -1.10480594,\n",
       "        -0.33363514,  0.43753566,  1.20870646,  1.97987726,  2.75104806,\n",
       "         3.52221886]),\n",
       " <BarContainer object of 10 artists>)"
      ]
     },
     "execution_count": 45,
     "metadata": {},
     "output_type": "execute_result"
    },
    {
     "data": {
      "image/png": "[encoded data removed]",
      "text/plain": [
       "<Figure size 640x480 with 1 Axes>"
      ]
     },
     "metadata": {},
     "output_type": "display_data"
    }
   ],
   "source": [
    "# Generate an array of 10000 numbers. Parameters are optional.\n",
    "x = rng.standard_normal(size=10000)\n",
    "# Show\n",
    "x\n",
    "plt.hist(x, edgecolor = 'black')"
   ]
  },
  {
   "cell_type": "markdown",
   "metadata": {},
   "source": [
    "***\n",
    "#### End"
   ]
  }
 ],
 "metadata": {
  "kernelspec": {
   "display_name": "base",
   "language": "python",
   "name": "python3"
  },
  "language_info": {
   "codemirror_mode": {
    "name": "ipython",
    "version": 3
   },
   "file_extension": ".py",
   "mimetype": "text/x-python",
   "name": "python",
   "nbconvert_exporter": "python",
   "pygments_lexer": "ipython3",
   "version": "3.11.5"
  }
 },
 "nbformat": 4,
 "nbformat_minor": 2
}
